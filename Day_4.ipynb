{
 "cells": [
  {
   "cell_type": "markdown",
   "id": "8cc95ef7-e3dd-471f-b54c-c147d060960f",
   "metadata": {},
   "source": [
    "## **Konu tekrarı**"
   ]
  },
  {
   "cell_type": "code",
   "execution_count": null,
   "id": "d9fe58b7-7e66-452e-a8f1-cd91e0a1c2bc",
   "metadata": {},
   "outputs": [],
   "source": [
    "def not_hesap():\n",
    "    vize = int(input(\"Vize notunuzu giriniz: \"))\n",
    "    final = int(input(\"Final notunuzu giriniz: \"))\n",
    "    \n",
    "    not_ort = (vize*0.4) + (final*0.6)\n",
    "    \n",
    "    if not_ort >= 90:\n",
    "        print(f'''\n",
    "        Tebrikler dersi geçtiniz, not ortalamanız: {not_ort}\n",
    "        Harf notunuz: AA\n",
    "        ''')\n",
    "        \n",
    "    elif not_ort >= 85:\n",
    "        print(f'''\n",
    "        Tebrikler dersi geçtiniz, not ortalamanız: {not_ort}\n",
    "        Harf notunuz: BA\n",
    "        ''')\n",
    "    \n",
    "    elif not_ort >= 80:\n",
    "        print(f'''\n",
    "        Tebrikler dersi geçtiniz, not ortalamanız: {not_ort}\n",
    "        Harf notunuz: BB\n",
    "        ''')\n",
    "    \n",
    "    elif not_ort >= 70:\n",
    "        print(f'''\n",
    "        Tebrikler dersi geçtiniz, not ortalamanız: {not_ort}\n",
    "        Harf notunuz: CB\n",
    "        ''')\n",
    "    \n",
    "    elif not_ort >= 60:\n",
    "        print(f'''\n",
    "        Tebrikler dersi geçtiniz, not ortalamanız: {not_ort}\n",
    "        Harf notunuz: CC\n",
    "        ''')\n",
    "    \n",
    "    elif not_ort >= 55:\n",
    "        print(f'''\n",
    "        Dersi koşullu geçtiniz, not ortalamanız: {not_ort}\n",
    "        Harf notunuz: DC\n",
    "        ''')\n",
    "    \n",
    "    elif not_ort >= 50:\n",
    "        print(f'''\n",
    "        Dersi koşullu geçtiniz, not ortalamanız: {not_ort}\n",
    "        Harf notunuz: DD\n",
    "        ''')\n",
    "    \n",
    "    else:\n",
    "        print(f'''\n",
    "        Dersten kaldınız, not ortalamanız: {not_ort}\n",
    "        Harf notunuz: FF\n",
    "        ''')"
   ]
  },
  {
   "cell_type": "code",
   "execution_count": null,
   "id": "144387ed-2f8d-4ff4-bfec-999fa493850b",
   "metadata": {},
   "outputs": [],
   "source": [
    "while True:\n",
    "    not_hesap()"
   ]
  },
  {
   "cell_type": "code",
   "execution_count": null,
   "id": "dbc7fb48-39b1-4820-8eca-8b3143f54462",
   "metadata": {},
   "outputs": [],
   "source": [
    "def topla(*args):\n",
    "    toplam = 0\n",
    "    for i in args:\n",
    "        toplam += i\n",
    "    return toplam"
   ]
  },
  {
   "cell_type": "code",
   "execution_count": null,
   "id": "038b236e-8d9d-4977-89e3-c1d45e38163c",
   "metadata": {},
   "outputs": [],
   "source": [
    "topla(1,2,3)"
   ]
  },
  {
   "cell_type": "code",
   "execution_count": null,
   "id": "a9f573bd-fedd-41cb-8fc9-ce4278aa21cd",
   "metadata": {},
   "outputs": [],
   "source": [
    "topla([1,2,3,4]) #list yapısını tek bir argüman olarak alacağı için fonksiyonumuz çalışmaz"
   ]
  },
  {
   "cell_type": "code",
   "execution_count": null,
   "id": "0254422d-df6e-4e0c-bc26-99303e558cff",
   "metadata": {},
   "outputs": [],
   "source": [
    "def topla2(liste):\n",
    "    toplam = 0\n",
    "    for i in liste:\n",
    "        toplam += i\n",
    "    return toplam"
   ]
  },
  {
   "cell_type": "code",
   "execution_count": null,
   "id": "e31db3eb-a198-46a1-9120-1517f33bae54",
   "metadata": {},
   "outputs": [],
   "source": [
    "topla2([1,2,3,4,5])"
   ]
  },
  {
   "cell_type": "code",
   "execution_count": null,
   "id": "6b67c6db-5304-4d5d-8685-0e9af7beddd9",
   "metadata": {},
   "outputs": [],
   "source": [
    "x = [1,2,3,4,5,6]\n",
    "topla2(x)"
   ]
  },
  {
   "cell_type": "code",
   "execution_count": null,
   "id": "98875f5d-ca91-451b-ac63-d66608692526",
   "metadata": {},
   "outputs": [],
   "source": [
    "#Recursion \n",
    "def topla3(x):\n",
    "    if(x > 0):\n",
    "        toplam = x + topla3(x - 1)\n",
    "    else:\n",
    "        toplam = 0\n",
    "    return toplam\n",
    "\n",
    "topla3(6)\n",
    "\n",
    "# topla3(6) = 6 + topla3(5)\n",
    "# topla3(5) = 5 + topla3(4)\n",
    "# topla3(4) = 4 + topla3(3)\n",
    "# topla3(3) = 3 + topla3(2)\n",
    "# topla3(2) = 2 + topla3(1)\n",
    "# topla3(1) = 1 + topla3(0)\n",
    "# topla3(0) = 0\n",
    "\n",
    "#6+(5+(4+(3+(2+(1+0)))))"
   ]
  },
  {
   "cell_type": "code",
   "execution_count": null,
   "id": "490d37c6-0996-441f-9923-6dae1b689618",
   "metadata": {},
   "outputs": [],
   "source": [
    "# Fibonacci Recursion\n",
    "\n",
    "def fibonacci(n):\n",
    "    if n <= 1:\n",
    "        return n\n",
    "    else:\n",
    "        return(fibonacci(n-1) + fibonacci(n-2))\n",
    "\n",
    "x = int(input(\"Fibonacci'nin kaç hanesini kontrol etmek istiyorsunuz? \"))\n",
    "\n",
    "for i in range(x):\n",
    "    print(fibonacci(i))"
   ]
  },
  {
   "cell_type": "code",
   "execution_count": null,
   "id": "0f97ba3f-31d8-4ec1-8785-3029bf6dabeb",
   "metadata": {},
   "outputs": [],
   "source": [
    "import time\n",
    "\n",
    "ant_af = {1: True, 2: True, 3: True, 4: True, 5: True, 6: True, 7: True,8: True, 9: True, 10: True, 11: True, 12: True, 13: True, 14: True, 15: True}\n",
    "ant_bur = {}\n",
    "ant_ist = {}\n",
    "af_bur = {}\n",
    "af_ist = {}\n",
    "bur_ist = {}\n",
    "#ant_af{} alternatifi olarak daha hızlı bir şekilde sözlük yapımızı oluşturmamız mümkün\n",
    "for i in range(1,16):\n",
    "    ant_bur[i] = True\n",
    "    ant_ist[i] = True\n",
    "    af_bur[i] = True\n",
    "    af_ist[i] = True\n",
    "    bur_ist[i] = True\n",
    "\n",
    "musteriData = []\n",
    "while True:\n",
    "    print(\"\"\"\n",
    "    ----------------------------\n",
    "    Antalya-Afyon-Bursa-İstanbul\n",
    "    ----------------------------\n",
    "\n",
    "    Tercih ettiğiniz seferi seçiniz:\n",
    "    1-Antalya-Afyon\n",
    "    2-Antalya-Bursa\n",
    "    3-Antalya-İstanbul\n",
    "    4-Afyon-Bursa\n",
    "    5-Afyon-İstanbul\n",
    "    6-Bursa-İstanbul\n",
    "    \"\"\")\n",
    "    sefer = int(input(\"Tercih ettiğiniz sefer numarasını giriniz:\"))\n",
    "\n",
    "    if sefer == 1:\n",
    "        musteri = {}\n",
    "        print(ant_af.items())\n",
    "        koltuk = int(input(\"Koltuk numarası seçiniz: \"))\n",
    "        if ant_af[koltuk] == False:\n",
    "            print(\"Lütfen boş bir koltuk seçiniz!\")\n",
    "        else:\n",
    "            ant_af[koltuk] = False\n",
    "            ant_bur[koltuk] = False\n",
    "            ant_ist[koltuk] = False\n",
    "\n",
    "        ad = input(\"Adınızı giriniz: \")\n",
    "        musteri[\"Ad\"] = ad\n",
    "\n",
    "        soyad = input(\"Soyadınızı giriniz: \")\n",
    "        musteri[\"Soyad\"] = soyad\n",
    "\n",
    "        musteri[\"Sefer\"] = \"Antalya-Afyon\"\n",
    "\n",
    "        print(f'Sayın {ad} {soyad} işleminiz başarı ile gerçekleşmiştir koltuk numaranız: {koltuk}')\n",
    "        musteriData.append(musteri)\n",
    "        print(musteriData)\n",
    "        time.sleep(3)\n",
    "\n",
    "    elif sefer == 2:\n",
    "        musteri = {}\n",
    "        print(ant_bur.items())\n",
    "        koltuk = int(input(\"Koltuk numarası seçiniz: \"))\n",
    "        if ant_bur[koltuk] == False:\n",
    "            print(\"Lütfen boş bir koltuk seçiniz!\")\n",
    "        else:\n",
    "            ant_af[koltuk] = False\n",
    "            ant_bur[koltuk] = False\n",
    "            ant_ist[koltuk] = False\n",
    "            af_bur[koltuk] = False\n",
    "\n",
    "        ad = input(\"Adınızı giriniz: \")\n",
    "        musteri[\"Ad\"] = ad\n",
    "\n",
    "        soyad = input(\"Soyadınızı giriniz: \")\n",
    "        musteri[\"Soyad\"] = soyad\n",
    "\n",
    "        musteri[\"Sefer\"] = \"Antalya-Bursa\"\n",
    "\n",
    "        print(f'Sayın {ad} {soyad} işleminiz başarı ile gerçekleşmiştir koltuk numaranız: {koltuk}')\n",
    "        musteriData.append(musteri)\n",
    "        print(musteriData)\n",
    "        time.sleep(3)\n",
    "\n",
    "    elif sefer == 3:\n",
    "        musteri = {}\n",
    "        print(ant_ist.items())\n",
    "        koltuk = int(input(\"Koltuk numarası seçiniz: \"))\n",
    "        if ant_ist[koltuk] == False:\n",
    "            print(\"Lütfen boş bir koltuk seçiniz!\")\n",
    "        else:\n",
    "            ant_af[koltuk] = False\n",
    "            ant_bur[koltuk] = False\n",
    "            ant_ist[koltuk] = False\n",
    "            af_bur[koltuk] = False\n",
    "            af_ist[koltuk] = False\n",
    "            bur_ist[koltuk] = False\n",
    "\n",
    "        ad = input(\"Adınızı giriniz: \")\n",
    "        musteri[\"Ad\"] = ad\n",
    "\n",
    "        soyad = input(\"Soyadınızı giriniz: \")\n",
    "        musteri[\"Soyad\"] = soyad\n",
    "\n",
    "        musteri[\"Sefer\"] = \"Antalya-İstanbul\"\n",
    "\n",
    "        print(f'Sayın {ad} {soyad} işleminiz başarı ile gerçekleşmiştir koltuk numaranız: {koltuk}')\n",
    "        musteriData.append(musteri)\n",
    "        print(musteriData)\n",
    "        time.sleep(3)\n",
    "\n",
    "    elif sefer == 4:\n",
    "        musteri = {}\n",
    "        print(af_bur.items())\n",
    "        koltuk = int(input(\"Koltuk numarası seçiniz: \"))\n",
    "        if af_bur[koltuk] == False:\n",
    "            print(\"Lütfen boş bir koltuk seçiniz!\")\n",
    "        else:\n",
    "            ant_bur[koltuk] = False\n",
    "            ant_ist[koltuk] = False\n",
    "            af_bur[koltuk] = False\n",
    "            af_ist[koltuk] = False\n",
    "\n",
    "        ad = input(\"Adınızı giriniz: \")\n",
    "        musteri[\"Ad\"] = ad\n",
    "\n",
    "        soyad = input(\"Soyadınızı giriniz: \")\n",
    "        musteri[\"Soyad\"] = soyad\n",
    "\n",
    "        musteri[\"Sefer\"] = \"Afyon-Bursa\"\n",
    "\n",
    "        print(f'Sayın {ad} {soyad} işleminiz başarı ile gerçekleşmiştir koltuk numaranız: {koltuk}')\n",
    "        musteriData.append(musteri)\n",
    "        print(musteriData)\n",
    "        time.sleep(3)\n",
    "\n",
    "    elif sefer == 5:\n",
    "        musteri = {}\n",
    "        print(af_ist.items())\n",
    "        koltuk = int(input(\"Koltuk numarası seçiniz: \"))\n",
    "        if af_ist[koltuk] == False:\n",
    "            print(\"Lütfen boş bir koltuk seçiniz!\")\n",
    "        else:\n",
    "            ant_bur[koltuk] = False\n",
    "            ant_ist[koltuk] = False\n",
    "            af_bur[koltuk] = False\n",
    "            af_ist[koltuk] = False\n",
    "            bur_ist[koltuk] = False\n",
    "\n",
    "        ad = input(\"Adınızı giriniz: \")\n",
    "        musteri[\"Ad\"] = ad\n",
    "\n",
    "        soyad = input(\"Soyadınızı giriniz: \")\n",
    "        musteri[\"Soyad\"] = soyad\n",
    "\n",
    "        musteri[\"Sefer\"] = \"Afyon-İstanbul\"\n",
    "\n",
    "        print(f'Sayın {ad} {soyad} işleminiz başarı ile gerçekleşmiştir koltuk numaranız: {koltuk}')\n",
    "        musteriData.append(musteri)\n",
    "        print(musteriData)\n",
    "        time.sleep(3)\n",
    "\n",
    "    elif sefer == 6:\n",
    "        musteri = {}\n",
    "        print(bur_ist.items())\n",
    "        koltuk = int(input(\"Koltuk numarası seçiniz: \"))\n",
    "        if bur_ist[koltuk] == False:\n",
    "            print(\"Lütfen boş bir koltuk seçiniz!\")\n",
    "        else:\n",
    "            ant_ist[koltuk] = False\n",
    "            af_ist[koltuk] = False\n",
    "            bur_ist[koltuk] = False\n",
    "\n",
    "        ad = input(\"Adınızı giriniz: \")\n",
    "        musteri[\"Ad\"] = ad\n",
    "\n",
    "        soyad = input(\"Soyadınızı giriniz: \")\n",
    "        musteri[\"Soyad\"] = soyad\n",
    "\n",
    "        musteri[\"Sefer\"] = \"Bursa-İstanbul\"\n",
    "\n",
    "        print(f'Sayın {ad} {soyad} işleminiz başarı ile gerçekleşmiştir koltuk numaranız: {koltuk}')\n",
    "        musteriData.append(musteri)\n",
    "        print(musteriData)\n",
    "        time.sleep(3)\n",
    "\n",
    "    else:\n",
    "        print(\"Lütfen geçerli bir sefer numarası giriniz\")"
   ]
  },
  {
   "cell_type": "markdown",
   "id": "dd292201-195a-4c44-af3a-04a1b53931de",
   "metadata": {},
   "source": [
    "## **Class**"
   ]
  },
  {
   "cell_type": "code",
   "execution_count": null,
   "id": "aa39cd84-bc14-4f5d-98a1-bc4a5fa99496",
   "metadata": {},
   "outputs": [],
   "source": [
    "class psc:\n",
    "  x = \"Python Students Club\""
   ]
  },
  {
   "cell_type": "code",
   "execution_count": null,
   "id": "51a82a1a-679c-4b63-9980-a72dd0f34c80",
   "metadata": {},
   "outputs": [],
   "source": [
    "print(y.x)"
   ]
  },
  {
   "cell_type": "code",
   "execution_count": null,
   "id": "6107b2ac-8d44-4caf-b453-9bf67972e7d2",
   "metadata": {},
   "outputs": [],
   "source": [
    "class psc2:\n",
    "    def __init__(self, isim, sehir):\n",
    "        self.name = isim\n",
    "        self.city = sehir"
   ]
  },
  {
   "cell_type": "code",
   "execution_count": null,
   "id": "2b6d8410-fc93-4e60-bb4e-cbba123c2d33",
   "metadata": {},
   "outputs": [],
   "source": [
    "class psc:\n",
    "  def __init__(self, isim, sehir):\n",
    "    self.name = isim\n",
    "    self.city = sehir\n",
    "\n",
    "x1 = psc(\"Hilal\", 7)\n",
    "x2 = psc(\"Emirhan\", 7)\n",
    "\n",
    "print(x1.isim)\n",
    "print(x1.sehir)\n",
    "\n",
    "print(x2.isim)\n",
    "print(x2.sehir)"
   ]
  },
  {
   "cell_type": "code",
   "execution_count": null,
   "id": "67fa2142-82fa-486e-baa1-1e3d148a7e4e",
   "metadata": {},
   "outputs": [],
   "source": [
    "class psc:\n",
    "  def __init__(self, isim, yas):\n",
    "    self.isim = isim\n",
    "    self.yas = yas\n",
    "\n",
    "  def pscfunc(x):\n",
    "    print(\"Benim adım \" + x.isim)\n",
    "\n",
    "p1 = psc(\"Emirhan\", 25)\n",
    "p1.pscfunc()"
   ]
  },
  {
   "cell_type": "code",
   "execution_count": null,
   "id": "5ca80ef7-55dd-4945-ac09-40d5a2e6455c",
   "metadata": {},
   "outputs": [],
   "source": [
    "class psc:\n",
    "  def __init__(pscself, isim, yas):\n",
    "    pscself.isim = isim\n",
    "    pscself.yas = yas\n",
    "\n",
    "  def pscfunc(x):\n",
    "    print(\"Benim adım \" + x.isim + str(x.yas))\n",
    "\n",
    "p1 = psc(\"Emirhan\", 25)\n",
    "p1.pscfunc()"
   ]
  },
  {
   "cell_type": "code",
   "execution_count": null,
   "id": "5200cdf6-b30c-40e5-84f4-ff9431608853",
   "metadata": {},
   "outputs": [],
   "source": [
    "p1.pscfunc()"
   ]
  },
  {
   "cell_type": "code",
   "execution_count": null,
   "id": "f01e557f-1589-4ee4-bb22-4a91e6b19b62",
   "metadata": {},
   "outputs": [],
   "source": [
    "p1.yas = 40"
   ]
  },
  {
   "cell_type": "code",
   "execution_count": null,
   "id": "426c5059-5d58-44bf-bf2b-0242dcdd3bb6",
   "metadata": {},
   "outputs": [],
   "source": [
    "p1.pscfunc()"
   ]
  },
  {
   "cell_type": "code",
   "execution_count": null,
   "id": "39a85f46-3f35-4506-ac1f-44d522b5e83e",
   "metadata": {},
   "outputs": [],
   "source": [
    "del p1.age"
   ]
  },
  {
   "cell_type": "code",
   "execution_count": null,
   "id": "374e09ea-71ff-44df-a4f6-fa1d9eb2ef6b",
   "metadata": {},
   "outputs": [],
   "source": [
    "p1.pscfunc() #age silindiği için hata alırız"
   ]
  },
  {
   "cell_type": "code",
   "execution_count": null,
   "id": "5ebf362e-c4ca-4127-812e-d1423e5ca12b",
   "metadata": {},
   "outputs": [],
   "source": [
    "p1.age = 25"
   ]
  },
  {
   "cell_type": "code",
   "execution_count": null,
   "id": "df69c7b5-f5eb-4735-83c3-7eb6a149ca08",
   "metadata": {},
   "outputs": [],
   "source": [
    "p1.pscfunc()"
   ]
  },
  {
   "cell_type": "code",
   "execution_count": null,
   "id": "7bc2f880-1878-4d44-a040-2e8c22dcaa46",
   "metadata": {},
   "outputs": [],
   "source": [
    "del p1"
   ]
  },
  {
   "cell_type": "code",
   "execution_count": null,
   "id": "9e958114-fdf9-43ad-a510-02fc8cfee1ed",
   "metadata": {},
   "outputs": [],
   "source": [
    "p1.pscfunc() #p1'i sildiğimiz için hata alırız"
   ]
  },
  {
   "cell_type": "code",
   "execution_count": null,
   "id": "85ea1ffd-3a2a-44aa-86e8-e9d1614cc992",
   "metadata": {},
   "outputs": [],
   "source": [
    "class psc:\n",
    "  pass"
   ]
  }
 ],
 "metadata": {
  "kernelspec": {
   "display_name": "Python 3 (ipykernel)",
   "language": "python",
   "name": "python3"
  },
  "language_info": {
   "codemirror_mode": {
    "name": "ipython",
    "version": 3
   },
   "file_extension": ".py",
   "mimetype": "text/x-python",
   "name": "python",
   "nbconvert_exporter": "python",
   "pygments_lexer": "ipython3",
   "version": "3.10.0"
  }
 },
 "nbformat": 4,
 "nbformat_minor": 5
}
